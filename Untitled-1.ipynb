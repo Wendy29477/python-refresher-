{
 "cells": [
  {
   "cell_type": "code",
   "execution_count": null,
   "id": "0458c9f8",
   "metadata": {},
   "outputs": [
    {
     "name": "stdout",
     "output_type": "stream",
     "text": [
      "There are 1382400 seconds in 16 day(s).\n"
     ]
    }
   ],
   "source": [
    "#Program that prints out the number of seconds in the number of days given \n",
    "def main():\n",
    "    # Ask to input the number of days \n",
    "    days = int(input(\"Enter the number of days: \"))\n",
    "    # calculate the seconds\n",
    "    seconds = days * 24 *60 * 60\n",
    "\n",
    "    print(f\"There are {seconds} seconds in {days} day(s).\")\n",
    "\n",
    "main()"
   ]
  },
  {
   "cell_type": "code",
   "execution_count": null,
   "id": "b404fd2b",
   "metadata": {},
   "outputs": [
    {
     "name": "stdout",
     "output_type": "stream",
     "text": [
      "The volume of the sphere with radius 2.4 is 57.92914285714286.\n"
     ]
    }
   ],
   "source": [
    "#Program to caclulate the volume of a sphere using the radius inputed by the user\n",
    "def main():\n",
    "    radius = float(input(\"Enter the radius:\"))\n",
    "    volume = radius * radius * radius * 22/7 *4/3\n",
    "\n",
    "    print(f\"The volume of the sphere with radius {radius} is {volume}.\")\n",
    "\n",
    "main()"
   ]
  },
  {
   "cell_type": "code",
   "execution_count": null,
   "id": "9432b17b",
   "metadata": {},
   "outputs": [
    {
     "name": "stdout",
     "output_type": "stream",
     "text": [
      "The area of a square of length 5.7 is 32.49.\n",
      "The perimeter of a square of length 5.7 is 22.8.\n"
     ]
    }
   ],
   "source": [
    "#pROGRAM TO COMPUTE THE AREA AND PERIMETER OF A SQUARE USING THE LENGTH INPUTED BY A USER \n",
    "def main():\n",
    "    length = float(input(\"Enter the length of the square:\"))\n",
    "    Area = length * length\n",
    "    Perimeter = length * 4\n",
    "\n",
    "    print(f\"The area of a square of length {length} is {Area}.\")\n",
    "    \n",
    "    print(f\"The perimeter of a square of length {length} is {Perimeter}.\")\n",
    "\n",
    "main()\n",
    "\n"
   ]
  },
  {
   "cell_type": "code",
   "execution_count": 2,
   "id": "7225fe07",
   "metadata": {},
   "outputs": [
    {
     "name": "stdout",
     "output_type": "stream",
     "text": [
      "The character is NOT a letter.\n"
     ]
    }
   ],
   "source": [
    "#Program that determines whether a character input by a user is uppercase or lower case\n",
    "char = input (\"Enter a sinngle letter: \")\n",
    "if len(char) != 1:\n",
    "    print(\"Please enter a single character.\")\n",
    "else:\n",
    "    if char.islower():\n",
    "        print(\"The character is lowercase.\")\n",
    "    elif char.isupper():\n",
    "        print(\"The character is uppercase. \")\n",
    "    else:\n",
    "        print(\"The character is NOT a letter.\")\n",
    "\n"
   ]
  },
  {
   "cell_type": "code",
   "execution_count": null,
   "id": "28884356",
   "metadata": {},
   "outputs": [
    {
     "name": "stdout",
     "output_type": "stream",
     "text": [
      "x = 1.0416666666666665\n"
     ]
    }
   ],
   "source": [
    "#Program that sets x to 0 and y to 20, repeats a loop where 4 is subtracted from y and 2/y is added to x until y is less than 6\n",
    "#initialize the variables \n",
    "x = 0\n",
    "y = 20\n",
    "#Repeat the loop until y = 6\n",
    "while y >= 6:\n",
    "    y -= 4\n",
    "    x += 2/y\n",
    "    \n",
    "print(\"x =\", x)"
   ]
  },
  {
   "cell_type": "code",
   "execution_count": 7,
   "id": "96e93ea0",
   "metadata": {},
   "outputs": [
    {
     "name": "stdout",
     "output_type": "stream",
     "text": [
      "Please enter 5 numeric valuees:\n",
      "\n",
      "The values you entered are: [5.0, 6.0, 7.0, 10.0, 16.0]\n",
      "\n",
      "The average of the entered values is: 8.8\n"
     ]
    }
   ],
   "source": [
    "#Program that uses a loop for a user to continally input 5 values to populate an array, calculates and displays the average of the values input into the array\n",
    "values = []\n",
    "\n",
    "print (\"Please enter 5 numeric valuees:\")\n",
    "for i in range (5):\n",
    "    while True:\n",
    "        try:\n",
    "            num = float(input(f\"Enter the value {i+1}: \"))\n",
    "            values.append(num)\n",
    "            break\n",
    "        except ValueError:\n",
    "            print(\"Invalid input. Please enter a number.\")\n",
    "\n",
    "print(\"\\nThe values you entered are:\", values)\n",
    "        \n",
    "average = sum(values) / len(values)\n",
    "\n",
    "print(f\"\\nThe average of the entered values is: {average}\")\n",
    "\n"
   ]
  }
 ],
 "metadata": {
  "kernelspec": {
   "display_name": "Python 3",
   "language": "python",
   "name": "python3"
  },
  "language_info": {
   "codemirror_mode": {
    "name": "ipython",
    "version": 3
   },
   "file_extension": ".py",
   "mimetype": "text/x-python",
   "name": "python",
   "nbconvert_exporter": "python",
   "pygments_lexer": "ipython3",
   "version": "3.12.10"
  }
 },
 "nbformat": 4,
 "nbformat_minor": 5
}
